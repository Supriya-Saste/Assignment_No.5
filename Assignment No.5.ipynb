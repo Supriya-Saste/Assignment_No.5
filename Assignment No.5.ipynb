{
 "cells": [
  {
   "cell_type": "markdown",
   "id": "e9bee71c",
   "metadata": {},
   "source": [
    "### Assignment No.5"
   ]
  },
  {
   "cell_type": "markdown",
   "id": "77d19e66",
   "metadata": {},
   "source": [
    "### 1. What does an empty dictionary&#39;s code look like?"
   ]
  },
  {
   "cell_type": "code",
   "execution_count": 1,
   "id": "e5eb1ae7",
   "metadata": {},
   "outputs": [],
   "source": [
    "d={}"
   ]
  },
  {
   "cell_type": "code",
   "execution_count": 2,
   "id": "78415b5a",
   "metadata": {},
   "outputs": [
    {
     "data": {
      "text/plain": [
       "{}"
      ]
     },
     "execution_count": 2,
     "metadata": {},
     "output_type": "execute_result"
    }
   ],
   "source": [
    "d"
   ]
  },
  {
   "cell_type": "markdown",
   "id": "fbb812f9",
   "metadata": {},
   "source": [
    "### 2. What is the value of a dictionary value with the key &#39;foo&#39; and the value 42?"
   ]
  },
  {
   "cell_type": "code",
   "execution_count": null,
   "id": "92275467",
   "metadata": {},
   "outputs": [],
   "source": [
    "Ans:\n",
    "    d={'foo':42}\n",
    "    Here the value is 42"
   ]
  },
  {
   "cell_type": "markdown",
   "id": "0079f130",
   "metadata": {},
   "source": [
    "### 3. What is the most significant distinction between a dictionary and a list?"
   ]
  },
  {
   "cell_type": "markdown",
   "id": "b7248773",
   "metadata": {},
   "source": [
    "List:\n",
    "    1. list is initialized by[] and stores elements by seperating them with ','.\n",
    "    2. List is an ordered collection of elements.\n",
    "    \n",
    "Dictionary:\n",
    "    1. Dictionary is initialized by {} and stores elements as key value pairs.\n",
    "    2. Dictionary is an unordered collection of elements.\n",
    "    "
   ]
  },
  {
   "cell_type": "markdown",
   "id": "aa9603fd",
   "metadata": {},
   "source": [
    "### 4. What happens if you try to access spam[&#39;foo&#39;] if spam is {&#39;bar&#39;: 100}?"
   ]
  },
  {
   "cell_type": "code",
   "execution_count": null,
   "id": "a603b2a0",
   "metadata": {},
   "outputs": [],
   "source": [
    "Ans: \n",
    "    You get KeyError."
   ]
  },
  {
   "cell_type": "code",
   "execution_count": 3,
   "id": "2d2f25c4",
   "metadata": {},
   "outputs": [],
   "source": [
    "spam = {'bar':100}"
   ]
  },
  {
   "cell_type": "code",
   "execution_count": 4,
   "id": "95a36f9f",
   "metadata": {},
   "outputs": [
    {
     "ename": "KeyError",
     "evalue": "'foo'",
     "output_type": "error",
     "traceback": [
      "\u001b[1;31m---------------------------------------------------------------------------\u001b[0m",
      "\u001b[1;31mKeyError\u001b[0m                                  Traceback (most recent call last)",
      "\u001b[1;32m<ipython-input-4-9b5a94d1de8d>\u001b[0m in \u001b[0;36m<module>\u001b[1;34m\u001b[0m\n\u001b[1;32m----> 1\u001b[1;33m \u001b[0mspam\u001b[0m\u001b[1;33m[\u001b[0m\u001b[1;34m'foo'\u001b[0m\u001b[1;33m]\u001b[0m\u001b[1;33m\u001b[0m\u001b[1;33m\u001b[0m\u001b[0m\n\u001b[0m",
      "\u001b[1;31mKeyError\u001b[0m: 'foo'"
     ]
    }
   ],
   "source": [
    "spam['foo']"
   ]
  },
  {
   "cell_type": "markdown",
   "id": "87110dd8",
   "metadata": {},
   "source": [
    "### 5. If a dictionary is stored in spam, what is the difference between the expressions &#39;cat&#39; in spam and &#39;cat&#39; in spam.keys()?"
   ]
  },
  {
   "cell_type": "markdown",
   "id": "0df186b0",
   "metadata": {},
   "source": [
    "Ans:\n",
    "    'cat' in spam is a key which has some value assigned to it.\n",
    "    Whereas 'cat' in spam.keys() is just one element of dict_keys, which has no value assigned to it."
   ]
  },
  {
   "cell_type": "markdown",
   "id": "5d1e0547",
   "metadata": {},
   "source": [
    "### 6. If a dictionary is stored in spam, what is the difference between the expressions &#39;cat&#39; in spam and &#39;cat&#39; in spam.values()?"
   ]
  },
  {
   "cell_type": "markdown",
   "id": "f1ade3c5",
   "metadata": {},
   "source": [
    "Ans:\n",
    "    'cat' may act as a key in the dictionary, \n",
    "    while 'cat' in spam.values() checks whether there is a value 'cat' for one of the keys in spam."
   ]
  },
  {
   "cell_type": "markdown",
   "id": "e58d3314",
   "metadata": {},
   "source": [
    "### 7. What is a shortcut for the following code? \n",
    "### if &#39;color&#39; not in spam: \n",
    "### spam[&#39;color&#39;] = &#39;black&#39;"
   ]
  },
  {
   "cell_type": "markdown",
   "id": "31a101e7",
   "metadata": {},
   "source": [
    "Ans:\n",
    "    spam.setdefault('color', 'black')"
   ]
  },
  {
   "cell_type": "markdown",
   "id": "cb16f090",
   "metadata": {},
   "source": [
    "### 8. How do you &quot;pretty print&quot; dictionary values using which module and function?"
   ]
  },
  {
   "cell_type": "markdown",
   "id": "76b62d7e",
   "metadata": {},
   "source": [
    "Ans:\n",
    "    By using:\n",
    "    pprint().pprint()"
   ]
  },
  {
   "cell_type": "code",
   "execution_count": 10,
   "id": "84cc263a",
   "metadata": {},
   "outputs": [
    {
     "name": "stdout",
     "output_type": "stream",
     "text": [
      "{'Seema': 2, 'rima': 1}\n"
     ]
    }
   ],
   "source": [
    "import pprint\n",
    "test_dict = {\"rima\":1,\"Seema\":2}\n",
    "pprint.pprint(test_dict)"
   ]
  }
 ],
 "metadata": {
  "kernelspec": {
   "display_name": "Python 3",
   "language": "python",
   "name": "python3"
  },
  "language_info": {
   "codemirror_mode": {
    "name": "ipython",
    "version": 3
   },
   "file_extension": ".py",
   "mimetype": "text/x-python",
   "name": "python",
   "nbconvert_exporter": "python",
   "pygments_lexer": "ipython3",
   "version": "3.8.8"
  }
 },
 "nbformat": 4,
 "nbformat_minor": 5
}
